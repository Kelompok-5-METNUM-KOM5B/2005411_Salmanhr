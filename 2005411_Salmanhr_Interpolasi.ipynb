{
  "cells": [
    {
      "cell_type": "markdown",
      "metadata": {
        "id": "GJb17hsdeGJe"
      },
      "source": [
        "# **Interpolasi**"
      ]
    },
    {
      "attachments": {},
      "cell_type": "markdown",
      "metadata": {},
      "source": [
        "**2005411 - Salman Haykal Ramadhan - Pilkom B 20**"
      ]
    },
    {
      "cell_type": "markdown",
      "metadata": {
        "id": "8MVXZIuufX19"
      },
      "source": [
        "**Lagrange**"
      ]
    },
    {
      "cell_type": "code",
      "execution_count": null,
      "metadata": {},
      "outputs": [],
      "source": [
        "import numpy as np\n",
        "import matplotlib.pyplot as plt\n",
        "\n",
        "# deklrasi variable n untuk menampung banyak titik\n",
        "n = int(input('Memasukan titik yang ingin dihitung: '))\n",
        "\n",
        "# deklrasi variable x untuk menampung nilai pada x\n",
        "x = np.zeros((n))\n",
        "#deklrasi variable y untuk menampung nilai pada y\n",
        "y = np.zeros((n))\n",
        "\n",
        "\n",
        "# Masukan data x dan y dan deklarasi sistem perulangan\n",
        "print('Masukan nilai x dan y: ')\n",
        "for i in range(n):\n",
        "    x[i] = float(input( 'x['+str(i)+']=')) # masukan x[i]\n",
        "    y[i] = float(input( 'y['+str(i)+']=')) # masukan y[i]\n",
        "\n",
        "\n",
        "xp = float(input('masukan input : '))\n",
        "yp = 0 \n",
        "\n",
        "# notasi algoritma Lagrange\n",
        "for i in range(n): \n",
        "    p = 1\n",
        "    for j in range(n):\n",
        "        if i != j:\n",
        "            p = p * (xp - x[j])/(x[i] - x[j])\n",
        "    yp = yp + p * y[i]    \n",
        "    \n",
        "print('Pada x %.3f mempunyai f(x) atau y  %.3f' % (xp, yp))\n",
        "plt.plot(x, y, marker = '*')\n",
        "plt.plot(xp, yp, marker = 'o')\n",
        "plt.show()\n"
      ]
    }
  ],
  "metadata": {
    "colab": {
      "provenance": []
    },
    "kernelspec": {
      "display_name": "Python 3",
      "language": "python",
      "name": "python3"
    },
    "language_info": {
      "name": "python",
      "version": "3.10.9 (tags/v3.10.9:1dd9be6, Dec  6 2022, 20:01:21) [MSC v.1934 64 bit (AMD64)]"
    },
    "vscode": {
      "interpreter": {
        "hash": "5ba0f065f53cfc001147f85d71108c04fa3b5afacaaf216ddc6df0dd55e3e4b8"
      }
    }
  },
  "nbformat": 4,
  "nbformat_minor": 0
}
